{
 "cells": [
  {
   "cell_type": "code",
   "execution_count": 116,
   "id": "initial_id",
   "metadata": {
    "ExecuteTime": {
     "end_time": "2023-12-03T13:45:16.258787Z",
     "start_time": "2023-12-03T13:45:16.245940Z"
    }
   },
   "outputs": [],
   "source": [
    "import numpy as np"
   ]
  },
  {
   "cell_type": "code",
   "execution_count": 117,
   "id": "e79d6a85",
   "metadata": {
    "ExecuteTime": {
     "end_time": "2023-12-03T13:45:16.259177Z",
     "start_time": "2023-12-03T13:45:16.254920Z"
    }
   },
   "outputs": [],
   "source": [
    "def power_method(A, x0, tol): # kako je definirano u knjizi\n",
    "    \"\"\"\n",
    "    :param A: Kvadratna matrica\n",
    "    :param x0: Pocetni vektor\n",
    "    :param tol: Tolerancija\n",
    "    :return: Dominatna svojstvena vrijednost ivektor\n",
    "    \"\"\"\n",
    "    x = x0.copy()\n",
    "    lambda_old = 0\n",
    "    converged = False\n",
    "    iteration = 0\n",
    "    \n",
    "    while not converged:\n",
    "        iteration += 1\n",
    "        y = np.dot(A, x)\n",
    "        lambda_new = np.dot(x.T, y)\n",
    "        x = y / np.linalg.norm(y, 2)\n",
    "        \n",
    "        converged = np.abs(lambda_new - lambda_old) < tol\n",
    "        lambda_old = lambda_new\n",
    "\n",
    "    return lambda_new, x\n",
    "\n",
    "x0 = np.array([1, 1, 1, 1], dtype=float) \n",
    "x0_1 = np.array([1,1,1], dtype=float)\n",
    "tol = np.pi * 1e-5\n",
    "\n"
   ]
  },
  {
   "cell_type": "code",
   "execution_count": 118,
   "outputs": [
    {
     "name": "stdout",
     "output_type": "stream",
     "text": [
      "usporedba kriterija medusobno:  [0.87113674 0.46286046 0.16395421]\n",
      "usporedba alternativa - kriterij 1:  [0.54712057 0.24233725 0.79021665 0.13224743]\n",
      "usporedba alternativa - kriterij 2:  [0.27481645 0.82668743 0.09626265 0.48145335]\n",
      "usporedba alternativa - kriterij 3:  [0.16505108 0.29348486 0.11759376 0.93423578]\n"
     ]
    }
   ],
   "source": [
    "# USPOREDBA KRITERIJA\n",
    "A = np.array([\n",
    "    [1, 2, 5],\n",
    "    [1/2, 1, 3],\n",
    "    [1/5, 1/3, 1]\n",
    "], dtype=float)\n",
    "\n",
    "kriteriji_tezina, kriteriji_vektor = power_method(A, x0_1, tol)\n",
    "print(\"usporedba kriterija medusobno: \", kriteriji_vektor)\n",
    "\n",
    "\n",
    "# Usporedba Alternativa po Kriteriju 1\n",
    "B = np.array([\n",
    "    [1, 4, 1/3, 7],\n",
    "    [1/4, 1, 1/5, 5],\n",
    "    [3, 5, 1, 2],\n",
    "    [1/7, 1/5, 1/2, 1]\n",
    "], dtype=float)\n",
    "\n",
    "alternative_kriterij_1_tezina, alternative_kriterij_1_vektor = power_method(B, x0, tol)\n",
    "print(\"usporedba alternativa - kriterij 1: \", alternative_kriterij_1_vektor )\n",
    "\n",
    "\n",
    "# Usporedba Alternativa po Kriteriju 2\n",
    "C = np.array([\n",
    "    [1, 1/6, 8, 1/4],\n",
    "    [6, 1, 5, 2],\n",
    "    [1/8, 1/5, 1, 1/3],\n",
    "    [4, 1/2, 3, 1]\n",
    "], dtype=float)\n",
    "\n",
    "alternative_kriterij_2_tezina, alternative_kriterij_2_vektor = power_method(C, x0, tol)\n",
    "print(\"usporedba alternativa - kriterij 2: \", alternative_kriterij_2_vektor)\n",
    "\n",
    "\n",
    "# Usporedba Alternativa po Kriteriju 3\n",
    "D = np.array([\n",
    "    [1, 1/2, 2, 1/7],\n",
    "    [2, 1, 3, 1/4],\n",
    "    [1/2, 1/3, 1, 1/5],\n",
    "    [7, 4, 5, 1]\n",
    "], dtype=float)\n",
    "\n",
    "alternative_kriterij_3_tezina, alternative_kriterij_3_vektor = power_method(D, x0, tol)\n",
    "print(\"usporedba alternativa - kriterij 3: \", alternative_kriterij_3_vektor)"
   ],
   "metadata": {
    "collapsed": false,
    "ExecuteTime": {
     "end_time": "2023-12-03T13:45:16.283480Z",
     "start_time": "2023-12-03T13:45:16.259625Z"
    }
   },
   "id": "d92e047384be18f0"
  },
  {
   "cell_type": "code",
   "execution_count": 119,
   "id": "5022d3b5",
   "metadata": {
    "ExecuteTime": {
     "end_time": "2023-12-03T13:45:16.283905Z",
     "start_time": "2023-12-03T13:45:16.274671Z"
    }
   },
   "outputs": [
    {
     "name": "stdout",
     "output_type": "stream",
     "text": [
      "Konačni rezultati za alternative:  [0.4211614  0.42849713 0.50216777 0.32792999]\n"
     ]
    }
   ],
   "source": [
    "# sve vektore iz metode potencija spojimo u matricu\n",
    "# 4x3\n",
    "matrica_usporedbi_alternativa = np.column_stack((alternative_kriterij_1_vektor, alternative_kriterij_2_vektor, alternative_kriterij_3_vektor))\n",
    "\n",
    "# normalizacija vektora težina kriterija\n",
    "# 3x1\n",
    "kriteriji_vektor_normaliziran = kriteriji_vektor / np.sum(kriteriji_vektor)\n",
    "\n",
    "# množenje matrice usporedbi alternativa sa vektorom tezina kriterija (4x1)\n",
    "overall_scores = np.dot(matrica_usporedbi_alternativa, kriteriji_vektor_normaliziran)\n",
    "\n",
    "print(\"Konačni rezultati za alternative: \", overall_scores)"
   ]
  },
  {
   "cell_type": "code",
   "execution_count": 120,
   "outputs": [
    {
     "name": "stdout",
     "output_type": "stream",
     "text": [
      "Dominantni vektori dobiveni s linalg.eig\n",
      "A - kriteriji: [0.871 0.463 0.164]\n",
      "B - alternative prema kriteriju 1: [-0.547 -0.242 -0.79  -0.132]\n",
      "C - alternative prema kriteriju 2: [0.275 0.827 0.096 0.481]\n",
      "D - alternative prema kriteriju 3: [0.165 0.293 0.118 0.934]\n"
     ]
    }
   ],
   "source": [
    "vrijednosti_A, vektori_A = np.linalg.eig(A)\n",
    "vrijednosti_B, vektori_B = np.linalg.eig(B)\n",
    "vrijednosti_C, vektori_C = np.linalg.eig(C)\n",
    "vrijednosti_D, vektori_D = np.linalg.eig(D)\n",
    "\n",
    "dominantni_A = vektori_A[:, np.argmax(vrijednosti_A)].real\n",
    "dominantni_B = vektori_B[:, np.argmax(vrijednosti_B)].real\n",
    "dominantni_C = vektori_C[:, np.argmax(vrijednosti_C)].real\n",
    "dominantni_D = vektori_D[:, np.argmax(vrijednosti_D)].real\n",
    "\n",
    "print(\"Dominantni vektori dobiveni s linalg.eig\")\n",
    "print(\"A - kriteriji:\", np.round(dominantni_A, 3))\n",
    "print(\"B - alternative prema kriteriju 1:\", np.round(dominantni_B, 3))\n",
    "print(\"C - alternative prema kriteriju 2:\", np.round(dominantni_C, 3))\n",
    "print(\"D - alternative prema kriteriju 3:\", np.round(dominantni_D, 3))"
   ],
   "metadata": {
    "collapsed": false,
    "ExecuteTime": {
     "end_time": "2023-12-03T13:45:16.358766Z",
     "start_time": "2023-12-03T13:45:16.288616Z"
    }
   },
   "id": "f1709368ec8acac"
  },
  {
   "cell_type": "code",
   "execution_count": 121,
   "outputs": [
    {
     "name": "stdout",
     "output_type": "stream",
     "text": [
      "Greska za kriterije:  [2.42119769e-10 2.96012659e-10 4.50777693e-10]\n",
      "Greska za alternative po kriteriju 1:  [2.72590068e-07 6.74440656e-07 4.84338931e-07 5.30456285e-07]\n",
      "Greska za alternative po kriteriju 2:  [4.65097278e-07 1.09368825e-07 5.31651819e-08 8.83164490e-08]\n",
      "Greska za alternative po kriteriju 3:  [7.15690279e-09 1.41149757e-08 1.75861792e-08 3.48494611e-09]\n"
     ]
    }
   ],
   "source": [
    "print(\"Greska za kriterije: \", np.abs(np.abs(dominantni_A)- np.abs(kriteriji_vektor)))\n",
    "print(\"Greska za alternative po kriteriju 1: \",np.abs(np.abs(dominantni_B) - np.abs(alternative_kriterij_1_vektor)))\n",
    "print(\"Greska za alternative po kriteriju 2: \",np.abs(np.abs(dominantni_C) - np.abs(alternative_kriterij_2_vektor)))\n",
    "print(\"Greska za alternative po kriteriju 3: \",np.abs(np.abs(dominantni_D) - np.abs(alternative_kriterij_3_vektor)))"
   ],
   "metadata": {
    "collapsed": false,
    "ExecuteTime": {
     "end_time": "2023-12-03T13:45:16.359354Z",
     "start_time": "2023-12-03T13:45:16.294915Z"
    }
   },
   "id": "d1898ffde3289ce2"
  },
  {
   "cell_type": "code",
   "execution_count": 121,
   "outputs": [],
   "source": [],
   "metadata": {
    "collapsed": false,
    "ExecuteTime": {
     "end_time": "2023-12-03T13:45:16.359847Z",
     "start_time": "2023-12-03T13:45:16.303121Z"
    }
   },
   "id": "dfa27c5e8b7aac7a"
  }
 ],
 "metadata": {
  "kernelspec": {
   "display_name": "Python 3 (ipykernel)",
   "language": "python",
   "name": "python3"
  },
  "language_info": {
   "codemirror_mode": {
    "name": "ipython",
    "version": 3
   },
   "file_extension": ".py",
   "mimetype": "text/x-python",
   "name": "python",
   "nbconvert_exporter": "python",
   "pygments_lexer": "ipython3",
   "version": "3.11.5"
  }
 },
 "nbformat": 4,
 "nbformat_minor": 5
}
